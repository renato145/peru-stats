{
 "cells": [
  {
   "cell_type": "markdown",
   "metadata": {},
   "source": [
    "# Violence against women"
   ]
  },
  {
   "cell_type": "code",
   "execution_count": 1,
   "metadata": {},
   "outputs": [],
   "source": [
    "import os; os.chdir('..')\n",
    "%load_ext autoreload\n",
    "%autoreload 2"
   ]
  },
  {
   "cell_type": "code",
   "execution_count": 10,
   "metadata": {},
   "outputs": [],
   "source": [
    "import unidecode, numpy as np, pandas as pd\n",
    "from pathlib import Path\n",
    "\n",
    "INTERIM = Path('data/interim/criminality/vaw-endes/')\n",
    "PROC = Path('data/processed/criminality/')"
   ]
  },
  {
   "cell_type": "markdown",
   "metadata": {},
   "source": [
    "# Read File"
   ]
  },
  {
   "cell_type": "code",
   "execution_count": 3,
   "metadata": {},
   "outputs": [
    {
     "name": "stdout",
     "output_type": "stream",
     "text": [
      "consecuencias_violencia_fisica_compañero.csv\r\n",
      "victimas_buscaron_ayuda_institucion.csv\r\n",
      "victimas_buscaron_ayuda_personas.csv\r\n",
      "violencia_fisica_compañero.csv\r\n",
      "violencia_fisica_otro.csv\r\n",
      "violencia_psicologica_fisica_sexual_compañero.csv\r\n",
      "violencia_psicologica_verbal_compañero.csv\r\n",
      "violencia_sexual_compañero.csv\r\n"
     ]
    }
   ],
   "source": [
    "!ls {INTERIM}"
   ]
  },
  {
   "cell_type": "code",
   "execution_count": 4,
   "metadata": {},
   "outputs": [],
   "source": [
    "def read_file(file):\n",
    "    df = pd.read_csv(file, encoding='latin1', low_memory=False).iloc[:-6]\n",
    "    cat = df.columns[0]\n",
    "    if df.iloc[3].notna().sum() > 1:\n",
    "        df.columns = ['location', 'variable'] + df.iloc[2, 2:].tolist()\n",
    "        df['variable'] = f'{cat} / ' + df['variable']\n",
    "    else:\n",
    "        df.columns = ['location'] + df.iloc[2, 1:].tolist()\n",
    "        df['variable'] = cat\n",
    "    \n",
    "    df = (df.drop('Periodo', axis=1).iloc[4:].\n",
    "             reset_index(drop=True).\n",
    "             fillna(method='pad').\n",
    "             melt(['location', 'variable'], var_name='year'))\n",
    "    df.value = df.value.str.replace(',', '.').apply(lambda x: x if pd.isna(x) else float(x[:-1])/100)\n",
    "    \n",
    "    df.location = (df.location.\n",
    "                      str.replace('PROVINCIA DE LIMA 2/', 'LIMA').\n",
    "                      str.replace('LIMA 1/', 'LIMA/CALLAO').\n",
    "                      str.replace('REGIÓN LIMA 3/', 'LIMA PROVINCIAS').\n",
    "                      str.replace('PROV. CONST. DEL CALLAO', 'CALLAO').\n",
    "                      str.title().\n",
    "                      str.replace(' De ', ' de '))\n",
    "    \n",
    "    return df"
   ]
  },
  {
   "cell_type": "code",
   "execution_count": 5,
   "metadata": {},
   "outputs": [
    {
     "data": {
      "text/html": [
       "<div>\n",
       "<style scoped>\n",
       "    .dataframe tbody tr th:only-of-type {\n",
       "        vertical-align: middle;\n",
       "    }\n",
       "\n",
       "    .dataframe tbody tr th {\n",
       "        vertical-align: top;\n",
       "    }\n",
       "\n",
       "    .dataframe thead th {\n",
       "        text-align: right;\n",
       "    }\n",
       "</style>\n",
       "<table border=\"1\" class=\"dataframe\">\n",
       "  <thead>\n",
       "    <tr style=\"text-align: right;\">\n",
       "      <th></th>\n",
       "      <th>location</th>\n",
       "      <th>variable</th>\n",
       "      <th>year</th>\n",
       "      <th>value</th>\n",
       "    </tr>\n",
       "  </thead>\n",
       "  <tbody>\n",
       "    <tr>\n",
       "      <th>0</th>\n",
       "      <td>Nacional</td>\n",
       "      <td>MUJERES DE 15 A 49 AÑOS DE EDAD QUE BUSCARON A...</td>\n",
       "      <td>2009</td>\n",
       "      <td>0.236</td>\n",
       "    </tr>\n",
       "    <tr>\n",
       "      <th>1</th>\n",
       "      <td>Amazonas</td>\n",
       "      <td>MUJERES DE 15 A 49 AÑOS DE EDAD QUE BUSCARON A...</td>\n",
       "      <td>2009</td>\n",
       "      <td>0.199</td>\n",
       "    </tr>\n",
       "    <tr>\n",
       "      <th>2</th>\n",
       "      <td>Áncash</td>\n",
       "      <td>MUJERES DE 15 A 49 AÑOS DE EDAD QUE BUSCARON A...</td>\n",
       "      <td>2009</td>\n",
       "      <td>0.252</td>\n",
       "    </tr>\n",
       "    <tr>\n",
       "      <th>3</th>\n",
       "      <td>Apurímac</td>\n",
       "      <td>MUJERES DE 15 A 49 AÑOS DE EDAD QUE BUSCARON A...</td>\n",
       "      <td>2009</td>\n",
       "      <td>0.336</td>\n",
       "    </tr>\n",
       "    <tr>\n",
       "      <th>4</th>\n",
       "      <td>Arequipa</td>\n",
       "      <td>MUJERES DE 15 A 49 AÑOS DE EDAD QUE BUSCARON A...</td>\n",
       "      <td>2009</td>\n",
       "      <td>0.337</td>\n",
       "    </tr>\n",
       "  </tbody>\n",
       "</table>\n",
       "</div>"
      ],
      "text/plain": [
       "   location                                           variable  year  value\n",
       "0  Nacional  MUJERES DE 15 A 49 AÑOS DE EDAD QUE BUSCARON A...  2009  0.236\n",
       "1  Amazonas  MUJERES DE 15 A 49 AÑOS DE EDAD QUE BUSCARON A...  2009  0.199\n",
       "2    Áncash  MUJERES DE 15 A 49 AÑOS DE EDAD QUE BUSCARON A...  2009  0.252\n",
       "3  Apurímac  MUJERES DE 15 A 49 AÑOS DE EDAD QUE BUSCARON A...  2009  0.336\n",
       "4  Arequipa  MUJERES DE 15 A 49 AÑOS DE EDAD QUE BUSCARON A...  2009  0.337"
      ]
     },
     "execution_count": 5,
     "metadata": {},
     "output_type": "execute_result"
    }
   ],
   "source": [
    "df = pd.concat([read_file(e) for e in INTERIM.iterdir()], ignore_index=True)\n",
    "df.head()"
   ]
  },
  {
   "cell_type": "code",
   "execution_count": 12,
   "metadata": {},
   "outputs": [],
   "source": [
    "PROC.mkdir(exist_ok=True)\n",
    "df.to_csv(PROC/'vaw-endes.csv')"
   ]
  },
  {
   "cell_type": "code",
   "execution_count": 13,
   "metadata": {},
   "outputs": [
    {
     "name": "stdout",
     "output_type": "stream",
     "text": [
      "total 488K\r\n",
      "-rw-rw-r-- 1 kopita kopita 8.5K May  6 15:00 population_inei.csv\r\n",
      "-rw-rw-r-- 1 kopita kopita  82K May  6 15:00 tipo-ubicacion.csv\r\n",
      "-rw-rw-r-- 1 kopita kopita 389K Jun  4 00:33 vaw-endes.csv\r\n"
     ]
    }
   ],
   "source": [
    "!ls -lh {PROC}"
   ]
  },
  {
   "cell_type": "code",
   "execution_count": null,
   "metadata": {},
   "outputs": [],
   "source": []
  }
 ],
 "metadata": {
  "kernelspec": {
   "display_name": "Python 3",
   "language": "python",
   "name": "python3"
  },
  "language_info": {
   "codemirror_mode": {
    "name": "ipython",
    "version": 3
   },
   "file_extension": ".py",
   "mimetype": "text/x-python",
   "name": "python",
   "nbconvert_exporter": "python",
   "pygments_lexer": "ipython3",
   "version": "3.6.4"
  }
 },
 "nbformat": 4,
 "nbformat_minor": 2
}
