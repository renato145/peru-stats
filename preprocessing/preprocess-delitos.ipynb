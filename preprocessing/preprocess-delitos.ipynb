{
 "cells": [
  {
   "cell_type": "markdown",
   "metadata": {},
   "source": [
    "# Imports"
   ]
  },
  {
   "cell_type": "code",
   "execution_count": 1,
   "metadata": {},
   "outputs": [],
   "source": [
    "import os; os.chdir('..')\n",
    "import unidecode\n",
    "import numpy as np\n",
    "import pandas as pd\n",
    "from pathlib import Path"
   ]
  },
  {
   "cell_type": "code",
   "execution_count": 4,
   "metadata": {},
   "outputs": [],
   "source": [
    "PATH_OUT = Path('data/processed/criminality')"
   ]
  },
  {
   "cell_type": "markdown",
   "metadata": {},
   "source": [
    "# Preprocess"
   ]
  },
  {
   "cell_type": "code",
   "execution_count": 7,
   "metadata": {},
   "outputs": [],
   "source": [
    "PATH_OUT.mkdir(parents=True, exist_ok=True)"
   ]
  },
  {
   "cell_type": "code",
   "execution_count": 52,
   "metadata": {},
   "outputs": [
    {
     "data": {
      "text/html": [
       "<div>\n",
       "<style scoped>\n",
       "    .dataframe tbody tr th:only-of-type {\n",
       "        vertical-align: middle;\n",
       "    }\n",
       "\n",
       "    .dataframe tbody tr th {\n",
       "        vertical-align: top;\n",
       "    }\n",
       "\n",
       "    .dataframe thead th {\n",
       "        text-align: right;\n",
       "    }\n",
       "</style>\n",
       "<table border=\"1\" class=\"dataframe\">\n",
       "  <thead>\n",
       "    <tr style=\"text-align: right;\">\n",
       "      <th></th>\n",
       "      <th>ambito</th>\n",
       "      <th>indicador</th>\n",
       "      <th>2000</th>\n",
       "      <th>2001</th>\n",
       "      <th>2002</th>\n",
       "      <th>2003</th>\n",
       "      <th>2004</th>\n",
       "      <th>2005</th>\n",
       "      <th>2006</th>\n",
       "      <th>2007</th>\n",
       "      <th>2008</th>\n",
       "      <th>2009</th>\n",
       "      <th>2010</th>\n",
       "      <th>2011</th>\n",
       "      <th>2012</th>\n",
       "      <th>2013</th>\n",
       "      <th>2014</th>\n",
       "      <th>2015</th>\n",
       "    </tr>\n",
       "  </thead>\n",
       "  <tbody>\n",
       "    <tr>\n",
       "      <th>4848</th>\n",
       "      <td>Amazonas</td>\n",
       "      <td>poblacion_total_urbana</td>\n",
       "      <td>99907.0</td>\n",
       "      <td>105146.0</td>\n",
       "      <td>110516.0</td>\n",
       "      <td>116024.0</td>\n",
       "      <td>121683.0</td>\n",
       "      <td>127506.0</td>\n",
       "      <td>133503.0</td>\n",
       "      <td>139654.0</td>\n",
       "      <td>145924.0</td>\n",
       "      <td>152277.0</td>\n",
       "      <td>158676.0</td>\n",
       "      <td>165116.0</td>\n",
       "      <td>171599.0</td>\n",
       "      <td>178105.0</td>\n",
       "      <td>184607.0</td>\n",
       "      <td>191075.0</td>\n",
       "    </tr>\n",
       "    <tr>\n",
       "      <th>4851</th>\n",
       "      <td>Amazonas</td>\n",
       "      <td>poblacion_total_rural</td>\n",
       "      <td>285334.0</td>\n",
       "      <td>283574.0</td>\n",
       "      <td>281422.0</td>\n",
       "      <td>278935.0</td>\n",
       "      <td>276165.0</td>\n",
       "      <td>273162.0</td>\n",
       "      <td>269925.0</td>\n",
       "      <td>266433.0</td>\n",
       "      <td>262705.0</td>\n",
       "      <td>258766.0</td>\n",
       "      <td>254638.0</td>\n",
       "      <td>250350.0</td>\n",
       "      <td>245909.0</td>\n",
       "      <td>241299.0</td>\n",
       "      <td>236515.0</td>\n",
       "      <td>231554.0</td>\n",
       "    </tr>\n",
       "  </tbody>\n",
       "</table>\n",
       "</div>"
      ],
      "text/plain": [
       "        ambito               indicador      2000      2001      2002  \\\n",
       "4848  Amazonas  poblacion_total_urbana   99907.0  105146.0  110516.0   \n",
       "4851  Amazonas   poblacion_total_rural  285334.0  283574.0  281422.0   \n",
       "\n",
       "          2003      2004      2005      2006      2007      2008      2009  \\\n",
       "4848  116024.0  121683.0  127506.0  133503.0  139654.0  145924.0  152277.0   \n",
       "4851  278935.0  276165.0  273162.0  269925.0  266433.0  262705.0  258766.0   \n",
       "\n",
       "          2010      2011      2012      2013      2014      2015  \n",
       "4848  158676.0  165116.0  171599.0  178105.0  184607.0  191075.0  \n",
       "4851  254638.0  250350.0  245909.0  241299.0  236515.0  231554.0  "
      ]
     },
     "execution_count": 52,
     "metadata": {},
     "output_type": "execute_result"
    }
   ],
   "source": [
    "df_pop = pd.read_csv('data/processed/inei_series.csv')\n",
    "df_pop = df_pop[df_pop.indicador.isin(['poblacion_total_urbana', 'poblacion_total_rural'])]\n",
    "cols = [k for k,v in df_pop.iloc[:, 3:].sum().iteritems() if v > 0]\n",
    "df_pop = df_pop.loc[:, ['ambito', 'indicador']+cols]\n",
    "df_pop.to_csv(PATH_OUT/'population_inei.csv', index=False)\n",
    "df_pop.head(2)"
   ]
  },
  {
   "cell_type": "code",
   "execution_count": 53,
   "metadata": {},
   "outputs": [
    {
     "data": {
      "text/html": [
       "<div>\n",
       "<style scoped>\n",
       "    .dataframe tbody tr th:only-of-type {\n",
       "        vertical-align: middle;\n",
       "    }\n",
       "\n",
       "    .dataframe tbody tr th {\n",
       "        vertical-align: top;\n",
       "    }\n",
       "\n",
       "    .dataframe thead th {\n",
       "        text-align: right;\n",
       "    }\n",
       "</style>\n",
       "<table border=\"1\" class=\"dataframe\">\n",
       "  <thead>\n",
       "    <tr style=\"text-align: right;\">\n",
       "      <th></th>\n",
       "      <th></th>\n",
       "      <th></th>\n",
       "      <th>value</th>\n",
       "    </tr>\n",
       "    <tr>\n",
       "      <th>year</th>\n",
       "      <th>departamento</th>\n",
       "      <th>variable</th>\n",
       "      <th></th>\n",
       "    </tr>\n",
       "  </thead>\n",
       "  <tbody>\n",
       "    <tr>\n",
       "      <th rowspan=\"2\" valign=\"top\">2015</th>\n",
       "      <th>Amazonas</th>\n",
       "      <th>generica</th>\n",
       "      <td>0</td>\n",
       "    </tr>\n",
       "    <tr>\n",
       "      <th>Ancash</th>\n",
       "      <th>generica</th>\n",
       "      <td>0</td>\n",
       "    </tr>\n",
       "  </tbody>\n",
       "</table>\n",
       "</div>"
      ],
      "text/plain": [
       "                            value\n",
       "year departamento variable       \n",
       "2015 Amazonas     generica      0\n",
       "     Ancash       generica      0"
      ]
     },
     "execution_count": 53,
     "metadata": {},
     "output_type": "execute_result"
    }
   ],
   "source": [
    "df = (pd.read_csv('data/raw/criminality/tipo-ubicacion.csv').\n",
    "          drop('Periodo', axis=1).\n",
    "          T.reset_index())\n",
    "df.iat[0,0] = 'year'\n",
    "df.iat[0,1] = 'departamento'\n",
    "df.columns = df.iloc[0].apply(lambda x: unidecode.unidecode(x.lower().replace(' ', '-')))\n",
    "df.drop(0, inplace=True)\n",
    "df.reset_index(drop=True, inplace=True)\n",
    "y = df.loc[0, 'year']\n",
    "for i,row in df.iterrows():\n",
    "    if row.year.isdigit():\n",
    "        y = row.year\n",
    "    row.year = y\n",
    "\n",
    "df.year = df.year.astype(int)\n",
    "df.departamento = (df.departamento.\n",
    "                     str.title().\n",
    "                     str.replace('Lima Provincias 2/', 'Lima Provincias').\n",
    "                     str.replace('Provincia De Lima 1/', 'Lima').\n",
    "                     str.replace('Provincia Constitucional Del Callao', 'Callao').\n",
    "                     str.replace(' De ', ' de '))\n",
    "df = df.melt(id_vars=['year', 'departamento'], var_name='variable')\n",
    "df.value = df.value.str.replace(' ', '').fillna(0).astype(int)\n",
    "df.to_csv(PATH_OUT/'tipo-ubicacion.csv', index=False)\n",
    "df = df.set_index(['year', 'departamento', 'variable'])\n",
    "df.head(2)"
   ]
  }
 ],
 "metadata": {
  "kernelspec": {
   "display_name": "Python 3",
   "language": "python",
   "name": "python3"
  },
  "language_info": {
   "codemirror_mode": {
    "name": "ipython",
    "version": 3
   },
   "file_extension": ".py",
   "mimetype": "text/x-python",
   "name": "python",
   "nbconvert_exporter": "python",
   "pygments_lexer": "ipython3",
   "version": "3.6.5"
  }
 },
 "nbformat": 4,
 "nbformat_minor": 2
}
