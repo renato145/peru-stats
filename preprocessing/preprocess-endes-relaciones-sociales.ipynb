{
 "cells": [
  {
   "cell_type": "code",
   "execution_count": 1,
   "metadata": {},
   "outputs": [],
   "source": [
    "PROCESS_SAV = False"
   ]
  },
  {
   "cell_type": "code",
   "execution_count": 2,
   "metadata": {},
   "outputs": [],
   "source": [
    "import os\n",
    "os.chdir('..')\n",
    "%load_ext autoreload\n",
    "%autoreload 2"
   ]
  },
  {
   "cell_type": "code",
   "execution_count": 3,
   "metadata": {},
   "outputs": [],
   "source": [
    "import numpy as np, pandas as pd, pickle\n",
    "import savReaderWriter as spss\n",
    "from tableschema_spss import Storage\n",
    "from pathlib import Path\n",
    "from tqdm import tqdm_notebook, tnrange\n",
    "pd.set_option('display.max_columns', 100)"
   ]
  },
  {
   "cell_type": "code",
   "execution_count": 4,
   "metadata": {},
   "outputs": [],
   "source": [
    "RAW = Path('data/raw/encuesta_relaciones_sociales/')\n",
    "INT = Path('data/interim/encuesta_relaciones_sociales/')\n",
    "PROC = Path('data/processed/encuesta_relaciones_sociales/')"
   ]
  },
  {
   "cell_type": "code",
   "execution_count": 5,
   "metadata": {},
   "outputs": [
    {
     "data": {
      "text/plain": [
       "[PosixPath('data/raw/encuesta_relaciones_sociales/503-Modulo764/08_CRS02_CAP400.sav'),\n",
       " PosixPath('data/raw/encuesta_relaciones_sociales/503-Modulo762/06_CRS02_CAP200.sav'),\n",
       " PosixPath('data/raw/encuesta_relaciones_sociales/503-Modulo768/12_CRS03_CAP300.sav')]"
      ]
     },
     "execution_count": 5,
     "metadata": {},
     "output_type": "execute_result"
    }
   ],
   "source": [
    "files = [([f for f in e.iterdir() if f.suffix == '.sav'][0]) for e in RAW.iterdir() if e.is_dir()]\n",
    "files[:3]"
   ]
  },
  {
   "cell_type": "markdown",
   "metadata": {},
   "source": [
    "# Read files"
   ]
  },
  {
   "cell_type": "code",
   "execution_count": 6,
   "metadata": {},
   "outputs": [],
   "source": [
    "def read_file(f):\n",
    "    storage = Storage()\n",
    "    data = storage.read(f)\n",
    "    fields = storage.describe(f)\n",
    "    col_dict = {e['name']:e['title'] for e in fields['fields']}\n",
    "    df = pd.DataFrame(data, columns=[e['name'] for e in fields['fields']])\n",
    "    \n",
    "    with spss.SavReader(f, returnHeader=True) as reader:\n",
    "        label_info = {k.decode('latin-1'):{int(kk):vv.decode('latin-1') for kk,vv in v.items()} for\n",
    "                      k,v in reader.valueLabels.items()}\n",
    "        \n",
    "    for n,col in df.items():\n",
    "        if n in label_info:\n",
    "            lbl_min = min(label_info[n].keys())\n",
    "            \n",
    "            # Hard fixes\n",
    "            if 5 in label_info[n]:\n",
    "                if label_info[n][5] == 'No supieron cómo ayudarme| 6. Otro (Especifique)':\n",
    "                    label_info[n][5] = 'No supieron cómo ayudarme'\n",
    "                    label_info[n][6] = 'Otro (Especifique)'\n",
    "            # /Hard fixes\n",
    "            \n",
    "            lbl_values = [label_info[n][e+lbl_min] for e in range(len(label_info[n]))]\n",
    "            df[n] = pd.Categorical(col.map(label_info[n]), lbl_values)\n",
    "    \n",
    "    return df, col_dict\n",
    "\n",
    "def get_columns(file):\n",
    "    with spss.SavHeaderReader(file) as header:\n",
    "        labels = header.varLabels\n",
    "    labels = [e.decode('latin-1') for e in labels.values()]\n",
    "    return labels\n",
    "\n",
    "def process_files(files):\n",
    "    INT.mkdir(parents=True, exist_ok=True)\n",
    "    col_dicts = []\n",
    "    for f in tqdm_notebook(files):\n",
    "        df, col_dict = read_file(f)\n",
    "        col_dicts.append(col_dict)\n",
    "        df.to_pickle(INT / (f.stem+'.pkl'))\n",
    "        \n",
    "    final_dict = col_dicts[0]\n",
    "    for e in col_dicts: final_dict.update(e)\n",
    "    pickle.dump(final_dict, (INT / 'full_dict.pkl').open('wb'))\n",
    "    \n",
    "    lines = sum([['-'*80, e.stem, '-'*80]+get_columns(e) for e in files], [])\n",
    "    (INT / 'columns.txt').open('w').write('\\n'.join(lines))\n",
    "        "
   ]
  },
  {
   "cell_type": "code",
   "execution_count": 7,
   "metadata": {},
   "outputs": [],
   "source": [
    "if PROCESS_SAV:\n",
    "    process_files(files)"
   ]
  },
  {
   "cell_type": "code",
   "execution_count": 10,
   "metadata": {},
   "outputs": [],
   "source": [
    "final_dict = pickle.load((INT / 'full_dict.pkl').open('rb'))"
   ]
  },
  {
   "cell_type": "code",
   "execution_count": null,
   "metadata": {},
   "outputs": [],
   "source": []
  },
  {
   "cell_type": "code",
   "execution_count": null,
   "metadata": {},
   "outputs": [],
   "source": []
  },
  {
   "cell_type": "code",
   "execution_count": null,
   "metadata": {},
   "outputs": [],
   "source": []
  },
  {
   "cell_type": "code",
   "execution_count": null,
   "metadata": {},
   "outputs": [],
   "source": []
  },
  {
   "cell_type": "code",
   "execution_count": null,
   "metadata": {},
   "outputs": [],
   "source": []
  },
  {
   "cell_type": "code",
   "execution_count": null,
   "metadata": {},
   "outputs": [],
   "source": []
  },
  {
   "cell_type": "code",
   "execution_count": null,
   "metadata": {},
   "outputs": [],
   "source": []
  },
  {
   "cell_type": "code",
   "execution_count": null,
   "metadata": {},
   "outputs": [],
   "source": []
  },
  {
   "cell_type": "code",
   "execution_count": null,
   "metadata": {},
   "outputs": [],
   "source": []
  },
  {
   "cell_type": "code",
   "execution_count": null,
   "metadata": {},
   "outputs": [],
   "source": []
  }
 ],
 "metadata": {
  "kernelspec": {
   "display_name": "Python 3",
   "language": "python",
   "name": "python3"
  },
  "language_info": {
   "codemirror_mode": {
    "name": "ipython",
    "version": 3
   },
   "file_extension": ".py",
   "mimetype": "text/x-python",
   "name": "python",
   "nbconvert_exporter": "python",
   "pygments_lexer": "ipython3",
   "version": "3.6.6"
  },
  "toc": {
   "base_numbering": 1,
   "nav_menu": {},
   "number_sections": true,
   "sideBar": true,
   "skip_h1_title": false,
   "title_cell": "Table of Contents",
   "title_sidebar": "Contents",
   "toc_cell": false,
   "toc_position": {},
   "toc_section_display": true,
   "toc_window_display": false
  }
 },
 "nbformat": 4,
 "nbformat_minor": 2
}
